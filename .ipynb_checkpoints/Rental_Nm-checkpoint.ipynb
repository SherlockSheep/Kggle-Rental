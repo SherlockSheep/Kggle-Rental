{
 "cells": [
  {
   "cell_type": "code",
   "execution_count": 49,
   "metadata": {},
   "outputs": [
    {
     "name": "stderr",
     "output_type": "stream",
     "text": [
      "Using Theano backend.\n"
     ]
    }
   ],
   "source": [
    "import pandas as pd\n",
    "import numpy as np\n",
    "import matplotlib.pyplot as plt\n",
    "from keras.models import Sequential\n",
    "from keras.layers import Dense, Dropout, Activation\n",
    "from keras.optimizers import SGD\n",
    "\n",
    "data_train = pd.read_json(\"/Users/yanyangma/Documents/pyLearning/Data_Mining/rental_data/train.json\")\n",
    "interest_level = pd.get_dummies(data_train['interest_level'])\n",
    "data_train = pd.concat([data_train,interest_level],axis=1)\n",
    "label_num_map={'high':2,'medium':1,'low':0}\n",
    "data_train['label'] = data_train['interest_level'].apply(lambda x:label_num_map[x])\n",
    "m_high_dic ={}\n",
    "m_medium_dic ={}\n",
    "m_low_dic ={}\n",
    "for i in xrange(0,data_train['bathrooms'].count()):\n",
    "    m_high_dic[data_train['manager_id'].values[i]] = 0;\n",
    "    m_medium_dic[data_train['manager_id'].values[i]] = 0;\n",
    "    m_low_dic[data_train['manager_id'].values[i]] = 0;\n",
    "\n",
    "for i in xrange(0,data_train['bathrooms'].count()):\n",
    "    if(data_train['interest_level'].values[i]=='high'):\n",
    "        m_high_dic[data_train['manager_id'].values[i]] = m_high_dic[data_train['manager_id'].values[i]] + 1;\n",
    "    elif(data_train['interest_level'].values[i]=='medium'):\n",
    "        m_medium_dic[data_train['manager_id'].values[i]] = m_medium_dic[data_train['manager_id'].values[i]] + 1;\n",
    "    else:\n",
    "        m_low_dic[data_train['manager_id'].values[i]] = m_low_dic[data_train['manager_id'].values[i]] + 1;\n",
    "        \n",
    "data_train['m_high'] = 0\n",
    "data_train['m_medium'] = 0\n",
    "data_train['m_low'] = 0\n",
    "data_train['p_num'] = 0\n",
    "data_train['d_len'] = 0\n",
    "data_train['f_num'] = 0;\n",
    "for i in xrange(0,data_train['bathrooms'].count()):\n",
    "    data_train['m_high'].values[i] = m_high_dic[data_train['manager_id'].values[i]]\n",
    "    data_train['m_medium'].values[i] = m_medium_dic[data_train['manager_id'].values[i]]\n",
    "    data_train['m_low'].values[i] = m_low_dic[data_train['manager_id'].values[i]]\n",
    "    data_train['p_num'].values[i] = len(data_train['photos'].values[i])\n",
    "    data_train['f_num'].values[i] = len(data_train['features'].values[i])\n",
    "    data_train['d_len'].values[i] = len(data_train['description'].values[i])\n",
    "\n",
    "data_train['is_train'] = np.random.uniform(0, 1, len(data_train)) <= .75\n",
    "train,test = data_train[data_train['is_train']==True], data_train[data_train['is_train']==False]\n",
    "train_set_high = train[train['interest_level']=='high'].sample(n=50000,replace=True)\n",
    "train_set_low = train[train['interest_level']=='low'].sample(n=50000,replace=True)\n",
    "train_set_medium = train[train['interest_level']=='medium'].sample(n=50000,replace=True)\n",
    "train_set = pd.concat([train_set_high,train_set_low,train_set_medium])\n",
    "\n",
    "features = ['bedrooms','bathrooms','price','latitude','longitude','m_high','m_medium','m_low','p_num','d_len','f_num']\n"
   ]
  },
  {
   "cell_type": "code",
   "execution_count": 46,
   "metadata": {},
   "outputs": [
    {
     "data": {
      "text/plain": [
       "MLPClassifier(activation='logistic', alpha=1e-05, batch_size='auto',\n",
       "       beta_1=0.9, beta_2=0.999, early_stopping=False, epsilon=1e-08,\n",
       "       hidden_layer_sizes=(121, 121), learning_rate='adaptive',\n",
       "       learning_rate_init=0.001, max_iter=200, momentum=0.9,\n",
       "       nesterovs_momentum=True, power_t=0.5, random_state=1, shuffle=True,\n",
       "       solver='adam', tol=0.0001, validation_fraction=0.1, verbose=False,\n",
       "       warm_start=False)"
      ]
     },
     "execution_count": 46,
     "metadata": {},
     "output_type": "execute_result"
    }
   ],
   "source": [
    "from keras.models import Sequential\n",
    "from keras.layers import Dense, Dropout, Activation\n",
    "from keras.optimizers import SGD\n",
    "\n",
    "model = Sequential()\n",
    "# Dense(64) is a fully-connected layer with 64 hidden units.\n",
    "# in the first layer, you must specify the expected input data shape:\n",
    "# here, 20-dimensional vectors.\n",
    "model.add(Dense(64, activation='relu', input_dim=len(features)))\n",
    "model.add(Dropout(0.5))\n",
    "model.add(Dense(64, activation='relu'))\n",
    "model.add(Dropout(0.5))\n",
    "model.add(Dense(10, activation='softmax'))\n",
    "\n",
    "sgd = SGD(lr=0.01, decay=1e-6, momentum=0.9, nesterov=True)\n",
    "model.compile(loss='categorical_crossentropy',\n",
    "              optimizer=sgd)\n",
    "\n"
   ]
  },
  {
   "cell_type": "code",
   "execution_count": 55,
   "metadata": {},
   "outputs": [
    {
     "data": {
      "text/plain": [
       "array([[  3.00000000e+00,   1.50000000e+00,   3.00000000e+03, ...,\n",
       "          5.00000000e+00,   5.88000000e+02,   0.00000000e+00],\n",
       "       [  2.00000000e+00,   1.00000000e+00,   5.46500000e+03, ...,\n",
       "          1.10000000e+01,   8.00000000e+00,   5.00000000e+00],\n",
       "       [  1.00000000e+00,   1.00000000e+00,   2.85000000e+03, ...,\n",
       "          8.00000000e+00,   6.91000000e+02,   4.00000000e+00],\n",
       "       ..., \n",
       "       [  1.00000000e+00,   1.00000000e+00,   2.59500000e+03, ...,\n",
       "          3.00000000e+00,   6.71000000e+02,   5.00000000e+00],\n",
       "       [  0.00000000e+00,   1.00000000e+00,   3.35000000e+03, ...,\n",
       "          9.00000000e+00,   7.35000000e+02,   5.00000000e+00],\n",
       "       [  2.00000000e+00,   1.00000000e+00,   2.20000000e+03, ...,\n",
       "          7.00000000e+00,   7.99000000e+02,   1.00000000e+00]])"
      ]
     },
     "execution_count": 55,
     "metadata": {},
     "output_type": "execute_result"
    }
   ],
   "source": [
    "x = data_train[features].values\n",
    "y = data_train['label'].values\n",
    "model.fit(x, y,\n",
    "          epochs=20,\n",
    "          batch_size=128)"
   ]
  },
  {
   "cell_type": "code",
   "execution_count": 47,
   "metadata": {},
   "outputs": [
    {
     "data": {
      "text/html": [
       "<div>\n",
       "<table border=\"1\" class=\"dataframe\">\n",
       "  <thead>\n",
       "    <tr style=\"text-align: right;\">\n",
       "      <th>preds</th>\n",
       "      <th>0</th>\n",
       "      <th>1</th>\n",
       "      <th>2</th>\n",
       "    </tr>\n",
       "    <tr>\n",
       "      <th>actual</th>\n",
       "      <th></th>\n",
       "      <th></th>\n",
       "      <th></th>\n",
       "    </tr>\n",
       "  </thead>\n",
       "  <tbody>\n",
       "    <tr>\n",
       "      <th>0</th>\n",
       "      <td>8004</td>\n",
       "      <td>595</td>\n",
       "      <td>23</td>\n",
       "    </tr>\n",
       "    <tr>\n",
       "      <th>1</th>\n",
       "      <td>1865</td>\n",
       "      <td>946</td>\n",
       "      <td>43</td>\n",
       "    </tr>\n",
       "    <tr>\n",
       "      <th>2</th>\n",
       "      <td>340</td>\n",
       "      <td>559</td>\n",
       "      <td>47</td>\n",
       "    </tr>\n",
       "  </tbody>\n",
       "</table>\n",
       "</div>"
      ],
      "text/plain": [
       "preds      0    1   2\n",
       "actual               \n",
       "0       8004  595  23\n",
       "1       1865  946  43\n",
       "2        340  559  47"
      ]
     },
     "execution_count": 47,
     "metadata": {},
     "output_type": "execute_result"
    }
   ],
   "source": []
  },
  {
   "cell_type": "code",
   "execution_count": 48,
   "metadata": {},
   "outputs": [
    {
     "data": {
      "text/plain": [
       "0.72427950410561903"
      ]
     },
     "execution_count": 48,
     "metadata": {},
     "output_type": "execute_result"
    }
   ],
   "source": [
    "clf.score(test[features],test['label'])"
   ]
  },
  {
   "cell_type": "code",
   "execution_count": null,
   "metadata": {
    "collapsed": true
   },
   "outputs": [],
   "source": []
  }
 ],
 "metadata": {
  "kernelspec": {
   "display_name": "Python 2",
   "language": "python",
   "name": "python2"
  },
  "language_info": {
   "codemirror_mode": {
    "name": "ipython",
    "version": 2
   },
   "file_extension": ".py",
   "mimetype": "text/x-python",
   "name": "python",
   "nbconvert_exporter": "python",
   "pygments_lexer": "ipython2",
   "version": "2.7.10"
  }
 },
 "nbformat": 4,
 "nbformat_minor": 2
}
